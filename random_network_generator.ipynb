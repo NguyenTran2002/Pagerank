{
 "cells": [
  {
   "cell_type": "code",
   "execution_count": 13,
   "metadata": {},
   "outputs": [],
   "source": [
    "# import libraries\n",
    "import pandas as pd\n",
    "import random"
   ]
  },
  {
   "cell_type": "code",
   "execution_count": 14,
   "metadata": {},
   "outputs": [],
   "source": [
    "# specify how many vertices in the network\n",
    "num_vertices = 100"
   ]
  },
  {
   "cell_type": "code",
   "execution_count": 15,
   "metadata": {},
   "outputs": [],
   "source": [
    "\n",
    "# list storing data to export\n",
    "list_vertices = []\n",
    "list_links = []\n",
    "\n",
    "# loop through the vertices\n",
    "for i in range(num_vertices):\n",
    "\n",
    "    list_vertices.append(i)\n",
    "\n",
    "    # random a number between 0 and the number of vertices\n",
    "    num_links = random.randint(0, num_vertices)\n",
    "\n",
    "    # create a list of links\n",
    "    links = []\n",
    "\n",
    "    # loop through the number of links\n",
    "    for j in range(num_links):\n",
    "            \n",
    "        # random a number between 0 and the number of vertices\n",
    "        link = random.randint(0, num_vertices - 1)\n",
    "\n",
    "        # if the number is NOT already added\n",
    "        if link not in links:\n",
    "            links.append(link)\n",
    "\n",
    "    # convert the list of links to a string separated by \";\"\n",
    "    links = \";\".join(str(x) for x in links)\n",
    "\n",
    "    # add the links to the list\n",
    "    list_links.append(links)"
   ]
  },
  {
   "cell_type": "code",
   "execution_count": 16,
   "metadata": {},
   "outputs": [],
   "source": [
    "# create a dataframe\n",
    "df = pd.DataFrame(list(zip(list_vertices, list_links)), columns =['Page', 'Links To'])\n",
    "\n",
    "# export the dataframe to a csv file in the Data folder\n",
    "df.to_csv(\"Data/Random Network.csv\", index=False)"
   ]
  }
 ],
 "metadata": {
  "kernelspec": {
   "display_name": "Python 3",
   "language": "python",
   "name": "python3"
  },
  "language_info": {
   "codemirror_mode": {
    "name": "ipython",
    "version": 3
   },
   "file_extension": ".py",
   "mimetype": "text/x-python",
   "name": "python",
   "nbconvert_exporter": "python",
   "pygments_lexer": "ipython3",
   "version": "3.10.7"
  },
  "orig_nbformat": 4
 },
 "nbformat": 4,
 "nbformat_minor": 2
}
