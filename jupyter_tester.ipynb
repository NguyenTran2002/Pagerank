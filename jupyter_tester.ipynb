{
 "cells": [
  {
   "cell_type": "code",
   "execution_count": 60,
   "metadata": {},
   "outputs": [
    {
     "data": {
      "text/plain": [
       "<Figure size 1500x1500 with 0 Axes>"
      ]
     },
     "execution_count": 60,
     "metadata": {},
     "output_type": "execute_result"
    },
    {
     "data": {
      "text/plain": [
       "<Figure size 1500x1500 with 0 Axes>"
      ]
     },
     "metadata": {},
     "output_type": "display_data"
    }
   ],
   "source": [
    "# import libraries\n",
    "import pandas as pd\n",
    "import networkx as nx\n",
    "import matplotlib.pyplot as plt\n",
    "%matplotlib inline\n",
    "from matplotlib.pyplot import figure\n",
    "figure(figsize=(15, 15), dpi = 100)"
   ]
  },
  {
   "cell_type": "code",
   "execution_count": 61,
   "metadata": {},
   "outputs": [
    {
     "data": {
      "text/html": [
       "<div>\n",
       "<style scoped>\n",
       "    .dataframe tbody tr th:only-of-type {\n",
       "        vertical-align: middle;\n",
       "    }\n",
       "\n",
       "    .dataframe tbody tr th {\n",
       "        vertical-align: top;\n",
       "    }\n",
       "\n",
       "    .dataframe thead th {\n",
       "        text-align: right;\n",
       "    }\n",
       "</style>\n",
       "<table border=\"1\" class=\"dataframe\">\n",
       "  <thead>\n",
       "    <tr style=\"text-align: right;\">\n",
       "      <th></th>\n",
       "      <th>Page</th>\n",
       "      <th>Links To</th>\n",
       "    </tr>\n",
       "  </thead>\n",
       "  <tbody>\n",
       "    <tr>\n",
       "      <th>0</th>\n",
       "      <td>0</td>\n",
       "      <td></td>\n",
       "    </tr>\n",
       "    <tr>\n",
       "      <th>1</th>\n",
       "      <td>1</td>\n",
       "      <td>19;7;18;9;2;5;16;4;13;3;8;17</td>\n",
       "    </tr>\n",
       "    <tr>\n",
       "      <th>2</th>\n",
       "      <td>2</td>\n",
       "      <td>19;5;1;12;9;16;13;17;8;15;6;3</td>\n",
       "    </tr>\n",
       "    <tr>\n",
       "      <th>3</th>\n",
       "      <td>3</td>\n",
       "      <td>6;7;16;15;9;10;13;12;18;5;2</td>\n",
       "    </tr>\n",
       "    <tr>\n",
       "      <th>4</th>\n",
       "      <td>4</td>\n",
       "      <td>15;16;14;5;6;0;8;4;2;19;18;17</td>\n",
       "    </tr>\n",
       "  </tbody>\n",
       "</table>\n",
       "</div>"
      ],
      "text/plain": [
       "  Page                       Links To\n",
       "0    0                               \n",
       "1    1   19;7;18;9;2;5;16;4;13;3;8;17\n",
       "2    2  19;5;1;12;9;16;13;17;8;15;6;3\n",
       "3    3    6;7;16;15;9;10;13;12;18;5;2\n",
       "4    4  15;16;14;5;6;0;8;4;2;19;18;17"
      ]
     },
     "execution_count": 61,
     "metadata": {},
     "output_type": "execute_result"
    }
   ],
   "source": [
    "network_data_file = 'Random Network.csv'\n",
    "\n",
    "# read in data\n",
    "network_df = pd.read_csv(\"Data/\" + network_data_file)\n",
    "\n",
    "# replace all nan values with empty strings\n",
    "network_df = network_df.fillna('')\n",
    "\n",
    "# convert all columns of the dataframe to string type expect for nan values\n",
    "network_df = network_df.astype(str)\n",
    "\n",
    "# print first 5 rows\n",
    "network_df.head()"
   ]
  },
  {
   "cell_type": "code",
   "execution_count": 62,
   "metadata": {},
   "outputs": [
    {
     "data": {
      "text/plain": [
       "{'0': [''],\n",
       " '1': ['19', '7', '18', '9', '2', '5', '16', '4', '13', '3', '8', '17'],\n",
       " '2': ['19', '5', '1', '12', '9', '16', '13', '17', '8', '15', '6', '3'],\n",
       " '3': ['6', '7', '16', '15', '9', '10', '13', '12', '18', '5', '2'],\n",
       " '4': ['15', '16', '14', '5', '6', '0', '8', '4', '2', '19', '18', '17'],\n",
       " '5': ['9', '16', '12', '10', '1', '5', '7', '18', '4', '6'],\n",
       " '6': ['11', '12', '13', '10', '4', '14'],\n",
       " '7': ['6', '4', '2', '0', '18', '14', '11', '1', '12', '7', '3', '15'],\n",
       " '8': ['9', '17', '19', '4', '12', '13', '5', '8', '14', '2', '18'],\n",
       " '9': ['11', '4', '6', '7', '1', '2', '14'],\n",
       " '10': ['16', '6', '15', '19', '8', '7', '0', '12', '17', '3', '13'],\n",
       " '11': ['10', '17', '5', '15', '1', '6', '9'],\n",
       " '12': ['6', '17', '12', '14', '0', '10', '7', '19', '2', '5', '11'],\n",
       " '13': ['7', '4', '1', '17', '14', '15', '0', '2', '8'],\n",
       " '14': ['19', '0', '1', '9', '14', '18'],\n",
       " '15': ['10', '8', '1', '15', '18', '4', '17', '13', '0', '6'],\n",
       " '16': ['10', '13', '16', '15', '12', '4'],\n",
       " '17': ['6', '9', '13', '0', '8', '18', '5', '2', '15', '16', '1', '14', '19'],\n",
       " '18': ['10', '17'],\n",
       " '19': ['5', '1', '0', '4', '14', '12', '10']}"
      ]
     },
     "execution_count": 62,
     "metadata": {},
     "output_type": "execute_result"
    }
   ],
   "source": [
    "# convert the read in network dataframe into an adjacency list\n",
    "\n",
    "# create an empty dictionary\n",
    "adjacency_list = {}\n",
    "\n",
    "# loop through the dataframe\n",
    "for index, row in network_df.iterrows():\n",
    "    # get the source and target nodes\n",
    "    page = row['Page']\n",
    "    links = row['Links To']\n",
    "\n",
    "    # split links into a list by \";\"\n",
    "    links = links.split(';')\n",
    "    \n",
    "    adjacency_list[page] = links\n",
    "\n",
    "# print the adjacency list\n",
    "adjacency_list"
   ]
  },
  {
   "cell_type": "code",
   "execution_count": 63,
   "metadata": {},
   "outputs": [
    {
     "data": {
      "text/plain": [
       "{'0': 1.0,\n",
       " '1': 1.0,\n",
       " '2': 1.0,\n",
       " '3': 1.0,\n",
       " '4': 1.0,\n",
       " '5': 1.0,\n",
       " '6': 1.0,\n",
       " '7': 1.0,\n",
       " '8': 1.0,\n",
       " '9': 1.0,\n",
       " '10': 1.0,\n",
       " '11': 1.0,\n",
       " '12': 1.0,\n",
       " '13': 1.0,\n",
       " '14': 1.0,\n",
       " '15': 1.0,\n",
       " '16': 1.0,\n",
       " '17': 1.0,\n",
       " '18': 1.0,\n",
       " '19': 1.0}"
      ]
     },
     "execution_count": 63,
     "metadata": {},
     "output_type": "execute_result"
    }
   ],
   "source": [
    "# create a new dictionary to store the pagerank values of all the pages\n",
    "pagerank = {}\n",
    "\n",
    "# prefill the dictionary with 1.0 for all the pages\n",
    "for page in adjacency_list:\n",
    "    pagerank[page] = 1.0\n",
    "\n",
    "# print the pagerank dictionary\n",
    "pagerank"
   ]
  },
  {
   "cell_type": "code",
   "execution_count": 64,
   "metadata": {},
   "outputs": [
    {
     "data": {
      "text/plain": [
       "{'0': 0.8564963265199013,\n",
       " '1': 0.8925699369863187,\n",
       " '2': 0.7080214626921812,\n",
       " '3': 0.39387310892972044,\n",
       " '4': 0.9826853811855684,\n",
       " '5': 0.7652077664561693,\n",
       " '6': 0.839043260841348,\n",
       " '7': 0.6627265296761361,\n",
       " '8': 0.6813998222832882,\n",
       " '9': 0.6745070868167308,\n",
       " '10': 1.0638663662522985,\n",
       " '11': 0.4639975732730114,\n",
       " '12': 0.8497105738440047,\n",
       " '13': 0.7818975122097465,\n",
       " '14': 0.9560515627081921,\n",
       " '15': 0.793894172731089,\n",
       " '16': 0.676916568800188,\n",
       " '17': 1.0524064334270147,\n",
       " '18': 0.7496384789391015,\n",
       " '19': 0.7377548648778752}"
      ]
     },
     "execution_count": 64,
     "metadata": {},
     "output_type": "execute_result"
    }
   ],
   "source": [
    "# calculate the pagerank values for all the pages\n",
    "\n",
    "# set the damping factor\n",
    "damping_factor = 0.85\n",
    "\n",
    "# set change factor\n",
    "change_factor = float('inf')\n",
    "\n",
    "# keep updating the pagerank values until the change factor is less than 0.01\n",
    "while change_factor > 0.01:\n",
    "\n",
    "    # create a copy of the current pagerank dictionary\n",
    "    old_pagerank = pagerank.copy()\n",
    "\n",
    "    # loop through each item in the pagerank dictionary\n",
    "    for page in pagerank:\n",
    "\n",
    "        raw_score = 0\n",
    "\n",
    "        # check which pages link to the current page\n",
    "        for parent in adjacency_list:\n",
    "\n",
    "            if page in adjacency_list[parent]:\n",
    "                raw_score += pagerank[parent] / len(adjacency_list[parent])\n",
    "\n",
    "\n",
    "        # calculate the pagerank value for the page\n",
    "        pagerank[page] = (1 - damping_factor) + damping_factor * raw_score\n",
    "\n",
    "    # calculate the change factor from the old and new pagerank values, pick the largest change\n",
    "    local_max_change_factor = 0\n",
    "    for page in pagerank:\n",
    "        change_factor = abs(pagerank[page] - old_pagerank[page]) / old_pagerank[page]\n",
    "        if change_factor > local_max_change_factor:\n",
    "            local_max_change_factor = change_factor\n",
    "\n",
    "    # update the global change factor\n",
    "    if local_max_change_factor < change_factor:\n",
    "        change_factor = local_max_change_factor\n",
    "\n",
    "# print the pagerank dictionary\n",
    "pagerank"
   ]
  },
  {
   "cell_type": "code",
   "execution_count": 65,
   "metadata": {},
   "outputs": [
    {
     "data": {
      "image/png": "[encoded data removed]",
      "text/plain": [
       "<Figure size 432x288 with 1 Axes>"
      ]
     },
     "metadata": {},
     "output_type": "display_data"
    }
   ],
   "source": [
    "# initialize the networkx graph object\n",
    "network_graph = nx.DiGraph()\n",
    "\n",
    "# add vertices to the graph from the adjacency list\n",
    "for page in adjacency_list:\n",
    "    network_graph.add_node(page)\n",
    "\n",
    "# add edges to the graph from the adjacency list\n",
    "for page in adjacency_list:\n",
    "    \n",
    "    for link in adjacency_list[page]:\n",
    "        if len(link) > 0:\n",
    "            network_graph.add_edge(page, link)\n",
    "\n",
    "\n",
    "# generate file name for the graph\n",
    "graph_file_name = network_data_file.replace('.csv', '.png')\n",
    "\n",
    "# visualize the network graph as a directed graph\n",
    "\n",
    "# set the graph options\n",
    "options = {\n",
    "    'node_color': 'teal',\n",
    "    'node_size': 300,\n",
    "    'font_color': 'whitesmoke',\n",
    "    'width': 2,\n",
    "    'arrowstyle': '-|>',\n",
    "    'arrowsize': 13,\n",
    "}\n",
    "\n",
    "# draw and export the graph\n",
    "nx.draw_networkx(network_graph, with_labels=True, arrows=True, **options)\n",
    "plt.savefig(graph_file_name, format=\"png\")\n"
   ]
  },
  {
   "cell_type": "code",
   "execution_count": null,
   "metadata": {},
   "outputs": [],
   "source": []
  }
 ],
 "metadata": {
  "kernelspec": {
   "display_name": "Python 3",
   "language": "python",
   "name": "python3"
  },
  "language_info": {
   "codemirror_mode": {
    "name": "ipython",
    "version": 3
   },
   "file_extension": ".py",
   "mimetype": "text/x-python",
   "name": "python",
   "nbconvert_exporter": "python",
   "pygments_lexer": "ipython3",
   "version": "3.10.7"
  },
  "orig_nbformat": 4
 },
 "nbformat": 4,
 "nbformat_minor": 2
}
