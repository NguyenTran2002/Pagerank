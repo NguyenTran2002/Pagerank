{
 "cells": [
  {
   "cell_type": "code",
   "execution_count": 19,
   "metadata": {},
   "outputs": [
    {
     "data": {
      "text/plain": [
       "<Figure size 1500x1500 with 0 Axes>"
      ]
     },
     "execution_count": 19,
     "metadata": {},
     "output_type": "execute_result"
    },
    {
     "data": {
      "text/plain": [
       "<Figure size 1500x1500 with 0 Axes>"
      ]
     },
     "metadata": {},
     "output_type": "display_data"
    }
   ],
   "source": [
    "# import libraries\n",
    "import pandas as pd\n",
    "import networkx as nx\n",
    "import matplotlib.pyplot as plt\n",
    "%matplotlib inline\n",
    "from matplotlib.pyplot import figure\n",
    "figure(figsize=(15, 15), dpi = 100)"
   ]
  },
  {
   "cell_type": "code",
   "execution_count": 20,
   "metadata": {},
   "outputs": [
    {
     "data": {
      "text/html": [
       "<div>\n",
       "<style scoped>\n",
       "    .dataframe tbody tr th:only-of-type {\n",
       "        vertical-align: middle;\n",
       "    }\n",
       "\n",
       "    .dataframe tbody tr th {\n",
       "        vertical-align: top;\n",
       "    }\n",
       "\n",
       "    .dataframe thead th {\n",
       "        text-align: right;\n",
       "    }\n",
       "</style>\n",
       "<table border=\"1\" class=\"dataframe\">\n",
       "  <thead>\n",
       "    <tr style=\"text-align: right;\">\n",
       "      <th></th>\n",
       "      <th>Page</th>\n",
       "      <th>Links To</th>\n",
       "    </tr>\n",
       "  </thead>\n",
       "  <tbody>\n",
       "    <tr>\n",
       "      <th>0</th>\n",
       "      <td>A</td>\n",
       "      <td>A;B;C</td>\n",
       "    </tr>\n",
       "    <tr>\n",
       "      <th>1</th>\n",
       "      <td>B</td>\n",
       "      <td>A;C</td>\n",
       "    </tr>\n",
       "    <tr>\n",
       "      <th>2</th>\n",
       "      <td>C</td>\n",
       "      <td>B</td>\n",
       "    </tr>\n",
       "  </tbody>\n",
       "</table>\n",
       "</div>"
      ],
      "text/plain": [
       "  Page Links To\n",
       "0    A    A;B;C\n",
       "1    B      A;C\n",
       "2    C        B"
      ]
     },
     "execution_count": 20,
     "metadata": {},
     "output_type": "execute_result"
    }
   ],
   "source": [
    "network_data_file = 'Network 1.csv'\n",
    "\n",
    "# read in data\n",
    "network_df = pd.read_csv(\"Data/\" + network_data_file)\n",
    "\n",
    "# print first 5 rows\n",
    "network_df.head()"
   ]
  },
  {
   "cell_type": "code",
   "execution_count": 21,
   "metadata": {},
   "outputs": [
    {
     "data": {
      "text/plain": [
       "{'A': ['A', 'B', 'C'], 'B': ['A', 'C'], 'C': ['B']}"
      ]
     },
     "execution_count": 21,
     "metadata": {},
     "output_type": "execute_result"
    }
   ],
   "source": [
    "# convert the read in network dataframe into an adjacency list\n",
    "\n",
    "# create an empty dictionary\n",
    "adjacency_list = {}\n",
    "\n",
    "# loop through the dataframe\n",
    "for index, row in network_df.iterrows():\n",
    "    # get the source and target nodes\n",
    "    page = row['Page']\n",
    "    links = row['Links To']\n",
    "\n",
    "    # split links into a list by \";\"\n",
    "    links = links.split(';')\n",
    "    \n",
    "    # if the page is not in the dictionary, add it\n",
    "    if page not in adjacency_list:\n",
    "        adjacency_list[page] = links\n",
    "\n",
    "# print the adjacency list\n",
    "adjacency_list"
   ]
  },
  {
   "cell_type": "code",
   "execution_count": 22,
   "metadata": {},
   "outputs": [
    {
     "data": {
      "text/plain": [
       "{'A': 1.0, 'B': 1.0, 'C': 1.0}"
      ]
     },
     "execution_count": 22,
     "metadata": {},
     "output_type": "execute_result"
    }
   ],
   "source": [
    "# create a new dictionary to store the pagerank values of all the pages\n",
    "pagerank = {}\n",
    "\n",
    "# prefill the dictionary with 1.0 for all the pages\n",
    "for page in adjacency_list:\n",
    "    pagerank[page] = 1.0\n",
    "\n",
    "# print the pagerank dictionary\n",
    "pagerank"
   ]
  },
  {
   "cell_type": "code",
   "execution_count": 23,
   "metadata": {},
   "outputs": [
    {
     "data": {
      "text/plain": [
       "{'A': 0.9215520833333333, 'B': 1.1944256944444445, 'C': 0.91873734375}"
      ]
     },
     "execution_count": 23,
     "metadata": {},
     "output_type": "execute_result"
    }
   ],
   "source": [
    "# calculate the pagerank values for all the pages\n",
    "\n",
    "# set the damping factor\n",
    "damping_factor = 0.85\n",
    "\n",
    "# set change factor\n",
    "change_factor = float('inf')\n",
    "\n",
    "# keep updating the pagerank values until the change factor is less than 0.01\n",
    "while change_factor > 0.01:\n",
    "\n",
    "    # create a copy of the current pagerank dictionary\n",
    "    old_pagerank = pagerank.copy()\n",
    "\n",
    "    # loop through each item in the pagerank dictionary\n",
    "    for page in pagerank:\n",
    "\n",
    "        raw_score = 0\n",
    "\n",
    "        # check which pages link to the current page\n",
    "        for parent in adjacency_list:\n",
    "\n",
    "            if page in adjacency_list[parent]:\n",
    "                raw_score += pagerank[parent] / len(adjacency_list[parent])\n",
    "\n",
    "\n",
    "        # calculate the pagerank value for the page\n",
    "        pagerank[page] = (1 - damping_factor) + damping_factor * raw_score\n",
    "\n",
    "    # calculate the change factor from the old and new pagerank values, pick the largest change\n",
    "    local_max_change_factor = 0\n",
    "    for page in pagerank:\n",
    "        change_factor = abs(pagerank[page] - old_pagerank[page]) / old_pagerank[page]\n",
    "        if change_factor > local_max_change_factor:\n",
    "            local_max_change_factor = change_factor\n",
    "\n",
    "    # update the global change factor\n",
    "    if local_max_change_factor < change_factor:\n",
    "        change_factor = local_max_change_factor\n",
    "\n",
    "# print the pagerank dictionary\n",
    "pagerank"
   ]
  },
  {
   "cell_type": "code",
   "execution_count": 24,
   "metadata": {},
   "outputs": [
    {
     "data": {
      "image/png": "[encoded data removed]",
      "text/plain": [
       "<Figure size 432x288 with 1 Axes>"
      ]
     },
     "metadata": {},
     "output_type": "display_data"
    }
   ],
   "source": [
    "# initialize the networkx graph object\n",
    "network_graph = nx.DiGraph()\n",
    "\n",
    "# add vertices to the graph from the adjacency list\n",
    "for page in adjacency_list:\n",
    "    network_graph.add_node(page)\n",
    "\n",
    "# add edges to the graph from the adjacency list\n",
    "for page in adjacency_list:\n",
    "    \n",
    "        for link in adjacency_list[page]:\n",
    "            network_graph.add_edge(page, link)\n",
    "\n",
    "\n",
    "# generate file name for the graph\n",
    "graph_file_name = network_data_file.replace('.csv', '.png')\n",
    "\n",
    "# visualize the network graph as a directed graph\n",
    "\n",
    "# set the graph options\n",
    "options = {\n",
    "    'node_color': 'teal',\n",
    "    'node_size': 300,\n",
    "    'font_color': 'whitesmoke',\n",
    "    'width': 2,\n",
    "    'arrowstyle': '-|>',\n",
    "    'arrowsize': 13,\n",
    "}\n",
    "\n",
    "# draw and export the graph\n",
    "nx.draw_networkx(network_graph, with_labels=True, arrows=True, **options)\n",
    "plt.savefig(graph_file_name, format=\"png\")\n"
   ]
  },
  {
   "cell_type": "code",
   "execution_count": null,
   "metadata": {},
   "outputs": [],
   "source": []
  }
 ],
 "metadata": {
  "kernelspec": {
   "display_name": "Python 3",
   "language": "python",
   "name": "python3"
  },
  "language_info": {
   "codemirror_mode": {
    "name": "ipython",
    "version": 3
   },
   "file_extension": ".py",
   "mimetype": "text/x-python",
   "name": "python",
   "nbconvert_exporter": "python",
   "pygments_lexer": "ipython3",
   "version": "3.10.7"
  },
  "orig_nbformat": 4
 },
 "nbformat": 4,
 "nbformat_minor": 2
}
